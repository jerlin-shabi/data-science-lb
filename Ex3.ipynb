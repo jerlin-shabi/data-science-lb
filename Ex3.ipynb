{
 "cells": [
  {
   "cell_type": "code",
   "execution_count": 4,
   "id": "3006d707-2a28-452f-b777-06512dcfc5af",
   "metadata": {},
   "outputs": [
    {
     "name": "stdout",
     "output_type": "stream",
     "text": [
      "Empty dataframe\n",
      "Empty DataFrame\n",
      "Columns: []\n",
      "Index: []\n",
      "Dataframe creation using List\n",
      "        0\n",
      "0   Geeks\n",
      "1     For\n",
      "2   Geeks\n",
      "3      is\n",
      "4  portal\n",
      "5     for\n",
      "6   Geeks\n",
      "    Name  Age\n",
      "0    Tom   20\n",
      "1   nick   21\n",
      "2  krish   19\n",
      "3   jack   18\n",
      "Create dataframe from dictionoary of lists\n",
      "     name  Degree  Score\n",
      "0  aparna     MBA     90\n",
      "1  pankaj     BCA     40\n",
      "2  sudhir  M.Tech     80\n",
      "3   Geeku     MBA     98\n",
      "0 name      aparna\n",
      "Degree       MBA\n",
      "Score         90\n",
      "Name: 0, dtype: object\n",
      "\n",
      "1 name      pankaj\n",
      "Degree       BCA\n",
      "Score         40\n",
      "Name: 1, dtype: object\n",
      "\n",
      "2 name      sudhir\n",
      "Degree    M.Tech\n",
      "Score         80\n",
      "Name: 2, dtype: object\n",
      "\n",
      "3 name      Geeku\n",
      "Degree      MBA\n",
      "Score        98\n",
      "Name: 3, dtype: object\n",
      "\n"
     ]
    }
   ],
   "source": [
    "import pandas as pd\n",
    "# Calling DataFrame constructor \n",
    "print(\"Empty dataframe\")\n",
    "df = pd.DataFrame() \n",
    "print(df)\n",
    "print(\"Dataframe creation using List\")\n",
    "# list of strings\n",
    "lst = ['Geeks', 'For', 'Geeks', 'is', 'portal', 'for', 'Geeks']\n",
    "# Calling DataFrame constructor on list \n",
    "df = pd.DataFrame(lst)\n",
    "print(df)\n",
    "# initialise data of lists.\n",
    "Data = {'Name':['Tom', 'nick', 'krish', 'jack'], 'Age':[20, 21, 19, 18]} \n",
    "# Create dataframe\n",
    "df = pd.DataFrame(Data)\n",
    "# Print the output. \n",
    "print(df)\n",
    "print(\"Create dataframe from dictionoary of lists\")\n",
    "# dictionary of lists\n",
    "dict = {'name':[\"aparna\", \"pankaj\", \"sudhir\", \"Geeku\"], \n",
    "'Degree': [\"MBA\", \"BCA\", \"M.Tech\", \"MBA\"], \n",
    "'Score':[90, 40, 80, 98]}\n",
    "# creating a dataframe from a dictionary \n",
    "df = pd.DataFrame(dict)\n",
    "print(df)\n",
    "# iterating over rows using iterrows() function \n",
    "for i, j in df.iterrows():\n",
    "    print(i, j) \n",
    "    print()"
   ]
  },
  {
   "cell_type": "code",
   "execution_count": null,
   "id": "9b9a6ab0-7050-4b4f-8080-9a9626ad20f5",
   "metadata": {},
   "outputs": [],
   "source": []
  }
 ],
 "metadata": {
  "kernelspec": {
   "display_name": "Python 3 (ipykernel)",
   "language": "python",
   "name": "python3"
  },
  "language_info": {
   "codemirror_mode": {
    "name": "ipython",
    "version": 3
   },
   "file_extension": ".py",
   "mimetype": "text/x-python",
   "name": "python",
   "nbconvert_exporter": "python",
   "pygments_lexer": "ipython3",
   "version": "3.10.8"
  }
 },
 "nbformat": 4,
 "nbformat_minor": 5
}
